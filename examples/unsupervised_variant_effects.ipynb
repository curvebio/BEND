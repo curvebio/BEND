{
 "cells": [
  {
   "cell_type": "code",
   "execution_count": 2,
   "metadata": {},
   "outputs": [],
   "source": [
    "import pandas as pd\n",
    "from scipy import spatial\n",
    "from sklearn.metrics import roc_auc_score"
   ]
  },
  {
   "attachments": {},
   "cell_type": "markdown",
   "metadata": {},
   "source": [
    "# Zero-shot prediction of unsupervised variant effects\n",
    "In this notebook, we use DNABERT to predict the effect of noncoding variants.\n",
    "\n",
    "As computing embeddings is heavy, we perform the actual embedding generation + cosine distance computation using a script. It's best to run this script on a GPU system. The result of the script is a csv file with the cosine embedding distance for each sample in the input data.\n",
    "\n",
    "Note that the DNABERT models have to be downloaded manually, so make sure the path indicated below is correct."
   ]
  },
  {
   "cell_type": "code",
   "execution_count": null,
   "metadata": {},
   "outputs": [],
   "source": [
    "!python3 scripts/predict_variant_effects.py variant_effects_expression.bed cosine_similarities_dnabert.csv dnabert pretrained_models/dnabert/6-new-12w-0 data/genomes/GRCh38.primary_assembly.genome.fa --kmer 6 --embedding_idx 254"
   ]
  },
  {
   "attachments": {},
   "cell_type": "markdown",
   "metadata": {},
   "source": [
    "Now we can compute the metric. We use the AUC in order to be directly able to compare to DeepSEA on the same data."
   ]
  },
  {
   "cell_type": "code",
   "execution_count": 4,
   "metadata": {},
   "outputs": [],
   "source": [
    "df = pd.read_csv(\"../cosine_distances.csv\")"
   ]
  },
  {
   "cell_type": "code",
   "execution_count": 6,
   "metadata": {},
   "outputs": [
    {
     "data": {
      "text/plain": [
       "0.5965822895562048"
      ]
     },
     "execution_count": 6,
     "metadata": {},
     "output_type": "execute_result"
    }
   ],
   "source": [
    "roc_auc_score(df[\"label\"], df[\"distance\"])"
   ]
  }
 ],
 "metadata": {
  "kernelspec": {
   "display_name": "plotenv",
   "language": "python",
   "name": "python3"
  },
  "language_info": {
   "codemirror_mode": {
    "name": "ipython",
    "version": 3
   },
   "file_extension": ".py",
   "mimetype": "text/x-python",
   "name": "python",
   "nbconvert_exporter": "python",
   "pygments_lexer": "ipython3",
   "version": "3.11.3"
  },
  "orig_nbformat": 4,
  "vscode": {
   "interpreter": {
    "hash": "252da7af67a04d472705c3d00232f7c877b3e9814417e26a468fa8fe21880e31"
   }
  }
 },
 "nbformat": 4,
 "nbformat_minor": 2
}
